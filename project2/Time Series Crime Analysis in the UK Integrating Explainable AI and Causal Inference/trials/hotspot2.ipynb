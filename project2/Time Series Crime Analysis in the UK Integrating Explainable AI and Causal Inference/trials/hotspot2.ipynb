{
 "cells": [
  {
   "cell_type": "code",
   "execution_count": 30,
   "outputs": [
    {
     "name": "stdout",
     "output_type": "stream",
     "text": [
      "Epoch 1/10\n",
      "6778/6778 [==============================] - 20s 3ms/step - loss: 1.0039e-04\n",
      "Epoch 2/10\n",
      "6778/6778 [==============================] - 23s 3ms/step - loss: 1.0030e-04\n",
      "Epoch 3/10\n",
      "6778/6778 [==============================] - 25s 4ms/step - loss: 1.0031e-04\n",
      "Epoch 4/10\n",
      "6778/6778 [==============================] - 25s 4ms/step - loss: 1.0029e-04\n",
      "Epoch 5/10\n",
      "6778/6778 [==============================] - 26s 4ms/step - loss: 1.0029e-04\n",
      "Epoch 6/10\n",
      "6778/6778 [==============================] - 25s 4ms/step - loss: 1.0030e-04\n",
      "Epoch 7/10\n",
      "6778/6778 [==============================] - 25s 4ms/step - loss: 1.0030e-04\n",
      "Epoch 8/10\n",
      "6778/6778 [==============================] - 25s 4ms/step - loss: 1.0030e-04\n",
      "Epoch 9/10\n",
      "6778/6778 [==============================] - 26s 4ms/step - loss: 1.0029e-04\n",
      "Epoch 10/10\n",
      "6778/6778 [==============================] - 25s 4ms/step - loss: 1.0030e-04\n",
      "1/1 [==============================] - 0s 155ms/step\n",
      "1/1 [==============================] - 0s 7ms/step\n",
      "1/1 [==============================] - 0s 8ms/step\n",
      "1/1 [==============================] - 0s 7ms/step\n",
      "1/1 [==============================] - 0s 9ms/step\n",
      "1/1 [==============================] - 0s 12ms/step\n"
     ]
    },
    {
     "ename": "ValueError",
     "evalue": "Found input variables with inconsistent numbers of samples: [3469922, 6]",
     "output_type": "error",
     "traceback": [
      "\u001B[0;31m---------------------------------------------------------------------------\u001B[0m",
      "\u001B[0;31mValueError\u001B[0m                                Traceback (most recent call last)",
      "Cell \u001B[0;32mIn[30], line 102\u001B[0m\n\u001B[1;32m     99\u001B[0m map_accumulated\u001B[38;5;241m.\u001B[39msave(\u001B[38;5;124m'\u001B[39m\u001B[38;5;124m/Users/arkamandol/DataspellProjects/Desertation_arka_23023023/data_files/crime_hotspots_accumulated.html\u001B[39m\u001B[38;5;124m'\u001B[39m)\n\u001B[1;32m    101\u001B[0m \u001B[38;5;66;03m# Calculate RMSE for evaluation\u001B[39;00m\n\u001B[0;32m--> 102\u001B[0m rmse \u001B[38;5;241m=\u001B[39m sqrt(\u001B[43mmean_squared_error\u001B[49m\u001B[43m(\u001B[49m\u001B[43my\u001B[49m\u001B[43m,\u001B[49m\u001B[43m \u001B[49m\u001B[43mfuture_predictions\u001B[49m\u001B[43m[\u001B[49m\u001B[43m:\u001B[49m\u001B[38;5;28;43mlen\u001B[39;49m\u001B[43m(\u001B[49m\u001B[43my\u001B[49m\u001B[43m)\u001B[49m\u001B[43m]\u001B[49m\u001B[43m)\u001B[49m)\n\u001B[1;32m    103\u001B[0m \u001B[38;5;28mprint\u001B[39m(\u001B[38;5;124m'\u001B[39m\u001B[38;5;124mRoot Mean Squared Error:\u001B[39m\u001B[38;5;124m'\u001B[39m, rmse)\n",
      "File \u001B[0;32m~/.pyenv/versions/3.10.13/lib/python3.10/site-packages/sklearn/utils/_param_validation.py:213\u001B[0m, in \u001B[0;36mvalidate_params.<locals>.decorator.<locals>.wrapper\u001B[0;34m(*args, **kwargs)\u001B[0m\n\u001B[1;32m    207\u001B[0m \u001B[38;5;28;01mtry\u001B[39;00m:\n\u001B[1;32m    208\u001B[0m     \u001B[38;5;28;01mwith\u001B[39;00m config_context(\n\u001B[1;32m    209\u001B[0m         skip_parameter_validation\u001B[38;5;241m=\u001B[39m(\n\u001B[1;32m    210\u001B[0m             prefer_skip_nested_validation \u001B[38;5;129;01mor\u001B[39;00m global_skip_validation\n\u001B[1;32m    211\u001B[0m         )\n\u001B[1;32m    212\u001B[0m     ):\n\u001B[0;32m--> 213\u001B[0m         \u001B[38;5;28;01mreturn\u001B[39;00m \u001B[43mfunc\u001B[49m\u001B[43m(\u001B[49m\u001B[38;5;241;43m*\u001B[39;49m\u001B[43margs\u001B[49m\u001B[43m,\u001B[49m\u001B[43m \u001B[49m\u001B[38;5;241;43m*\u001B[39;49m\u001B[38;5;241;43m*\u001B[39;49m\u001B[43mkwargs\u001B[49m\u001B[43m)\u001B[49m\n\u001B[1;32m    214\u001B[0m \u001B[38;5;28;01mexcept\u001B[39;00m InvalidParameterError \u001B[38;5;28;01mas\u001B[39;00m e:\n\u001B[1;32m    215\u001B[0m     \u001B[38;5;66;03m# When the function is just a wrapper around an estimator, we allow\u001B[39;00m\n\u001B[1;32m    216\u001B[0m     \u001B[38;5;66;03m# the function to delegate validation to the estimator, but we replace\u001B[39;00m\n\u001B[1;32m    217\u001B[0m     \u001B[38;5;66;03m# the name of the estimator by the name of the function in the error\u001B[39;00m\n\u001B[1;32m    218\u001B[0m     \u001B[38;5;66;03m# message to avoid confusion.\u001B[39;00m\n\u001B[1;32m    219\u001B[0m     msg \u001B[38;5;241m=\u001B[39m re\u001B[38;5;241m.\u001B[39msub(\n\u001B[1;32m    220\u001B[0m         \u001B[38;5;124mr\u001B[39m\u001B[38;5;124m\"\u001B[39m\u001B[38;5;124mparameter of \u001B[39m\u001B[38;5;124m\\\u001B[39m\u001B[38;5;124mw+ must be\u001B[39m\u001B[38;5;124m\"\u001B[39m,\n\u001B[1;32m    221\u001B[0m         \u001B[38;5;124mf\u001B[39m\u001B[38;5;124m\"\u001B[39m\u001B[38;5;124mparameter of \u001B[39m\u001B[38;5;132;01m{\u001B[39;00mfunc\u001B[38;5;241m.\u001B[39m\u001B[38;5;18m__qualname__\u001B[39m\u001B[38;5;132;01m}\u001B[39;00m\u001B[38;5;124m must be\u001B[39m\u001B[38;5;124m\"\u001B[39m,\n\u001B[1;32m    222\u001B[0m         \u001B[38;5;28mstr\u001B[39m(e),\n\u001B[1;32m    223\u001B[0m     )\n",
      "File \u001B[0;32m~/.pyenv/versions/3.10.13/lib/python3.10/site-packages/sklearn/metrics/_regression.py:497\u001B[0m, in \u001B[0;36mmean_squared_error\u001B[0;34m(y_true, y_pred, sample_weight, multioutput, squared)\u001B[0m\n\u001B[1;32m    492\u001B[0m     \u001B[38;5;28;01mif\u001B[39;00m \u001B[38;5;129;01mnot\u001B[39;00m squared:\n\u001B[1;32m    493\u001B[0m         \u001B[38;5;28;01mreturn\u001B[39;00m root_mean_squared_error(\n\u001B[1;32m    494\u001B[0m             y_true, y_pred, sample_weight\u001B[38;5;241m=\u001B[39msample_weight, multioutput\u001B[38;5;241m=\u001B[39mmultioutput\n\u001B[1;32m    495\u001B[0m         )\n\u001B[0;32m--> 497\u001B[0m y_type, y_true, y_pred, multioutput \u001B[38;5;241m=\u001B[39m \u001B[43m_check_reg_targets\u001B[49m\u001B[43m(\u001B[49m\n\u001B[1;32m    498\u001B[0m \u001B[43m    \u001B[49m\u001B[43my_true\u001B[49m\u001B[43m,\u001B[49m\u001B[43m \u001B[49m\u001B[43my_pred\u001B[49m\u001B[43m,\u001B[49m\u001B[43m \u001B[49m\u001B[43mmultioutput\u001B[49m\n\u001B[1;32m    499\u001B[0m \u001B[43m\u001B[49m\u001B[43m)\u001B[49m\n\u001B[1;32m    500\u001B[0m check_consistent_length(y_true, y_pred, sample_weight)\n\u001B[1;32m    501\u001B[0m output_errors \u001B[38;5;241m=\u001B[39m np\u001B[38;5;241m.\u001B[39maverage((y_true \u001B[38;5;241m-\u001B[39m y_pred) \u001B[38;5;241m*\u001B[39m\u001B[38;5;241m*\u001B[39m \u001B[38;5;241m2\u001B[39m, axis\u001B[38;5;241m=\u001B[39m\u001B[38;5;241m0\u001B[39m, weights\u001B[38;5;241m=\u001B[39msample_weight)\n",
      "File \u001B[0;32m~/.pyenv/versions/3.10.13/lib/python3.10/site-packages/sklearn/metrics/_regression.py:102\u001B[0m, in \u001B[0;36m_check_reg_targets\u001B[0;34m(y_true, y_pred, multioutput, dtype)\u001B[0m\n\u001B[1;32m     68\u001B[0m \u001B[38;5;28;01mdef\u001B[39;00m \u001B[38;5;21m_check_reg_targets\u001B[39m(y_true, y_pred, multioutput, dtype\u001B[38;5;241m=\u001B[39m\u001B[38;5;124m\"\u001B[39m\u001B[38;5;124mnumeric\u001B[39m\u001B[38;5;124m\"\u001B[39m):\n\u001B[1;32m     69\u001B[0m \u001B[38;5;250m    \u001B[39m\u001B[38;5;124;03m\"\"\"Check that y_true and y_pred belong to the same regression task.\u001B[39;00m\n\u001B[1;32m     70\u001B[0m \n\u001B[1;32m     71\u001B[0m \u001B[38;5;124;03m    Parameters\u001B[39;00m\n\u001B[0;32m   (...)\u001B[0m\n\u001B[1;32m    100\u001B[0m \u001B[38;5;124;03m        correct keyword.\u001B[39;00m\n\u001B[1;32m    101\u001B[0m \u001B[38;5;124;03m    \"\"\"\u001B[39;00m\n\u001B[0;32m--> 102\u001B[0m     \u001B[43mcheck_consistent_length\u001B[49m\u001B[43m(\u001B[49m\u001B[43my_true\u001B[49m\u001B[43m,\u001B[49m\u001B[43m \u001B[49m\u001B[43my_pred\u001B[49m\u001B[43m)\u001B[49m\n\u001B[1;32m    103\u001B[0m     y_true \u001B[38;5;241m=\u001B[39m check_array(y_true, ensure_2d\u001B[38;5;241m=\u001B[39m\u001B[38;5;28;01mFalse\u001B[39;00m, dtype\u001B[38;5;241m=\u001B[39mdtype)\n\u001B[1;32m    104\u001B[0m     y_pred \u001B[38;5;241m=\u001B[39m check_array(y_pred, ensure_2d\u001B[38;5;241m=\u001B[39m\u001B[38;5;28;01mFalse\u001B[39;00m, dtype\u001B[38;5;241m=\u001B[39mdtype)\n",
      "File \u001B[0;32m~/.pyenv/versions/3.10.13/lib/python3.10/site-packages/sklearn/utils/validation.py:457\u001B[0m, in \u001B[0;36mcheck_consistent_length\u001B[0;34m(*arrays)\u001B[0m\n\u001B[1;32m    455\u001B[0m uniques \u001B[38;5;241m=\u001B[39m np\u001B[38;5;241m.\u001B[39munique(lengths)\n\u001B[1;32m    456\u001B[0m \u001B[38;5;28;01mif\u001B[39;00m \u001B[38;5;28mlen\u001B[39m(uniques) \u001B[38;5;241m>\u001B[39m \u001B[38;5;241m1\u001B[39m:\n\u001B[0;32m--> 457\u001B[0m     \u001B[38;5;28;01mraise\u001B[39;00m \u001B[38;5;167;01mValueError\u001B[39;00m(\n\u001B[1;32m    458\u001B[0m         \u001B[38;5;124m\"\u001B[39m\u001B[38;5;124mFound input variables with inconsistent numbers of samples: \u001B[39m\u001B[38;5;132;01m%r\u001B[39;00m\u001B[38;5;124m\"\u001B[39m\n\u001B[1;32m    459\u001B[0m         \u001B[38;5;241m%\u001B[39m [\u001B[38;5;28mint\u001B[39m(l) \u001B[38;5;28;01mfor\u001B[39;00m l \u001B[38;5;129;01min\u001B[39;00m lengths]\n\u001B[1;32m    460\u001B[0m     )\n",
      "\u001B[0;31mValueError\u001B[0m: Found input variables with inconsistent numbers of samples: [3469922, 6]"
     ]
    }
   ],
   "source": [
    "import pandas as pd\n",
    "import numpy as np\n",
    "from sklearn.preprocessing import MinMaxScaler\n",
    "from keras.models import Sequential\n",
    "from keras.layers import LSTM, Dense\n",
    "import folium\n",
    "from folium.plugins import HeatMap\n",
    "from sklearn.metrics import mean_squared_error\n",
    "from math import sqrt\n",
    "\n",
    "# Load the dataset\n",
    "file_path = '/Users/arkamandol/DataspellProjects/Desertation_arka_23023023/data_files/uk_crime_lat_long.csv'\n",
    "data = pd.read_csv(file_path)\n",
    "\n",
    "# Convert 'Month' to datetime format for better date handling\n",
    "data['Month'] = pd.to_datetime(data['Month'])\n",
    "\n",
    "# Sort the DataFrame by the 'Month' column\n",
    "data.sort_values('Month', inplace=True)\n",
    "\n",
    "# Group data by Month, Latitude, and Longitude and count occurrences\n",
    "monthly_data = data.groupby(['Month', 'Latitude', 'Longitude']).size().reset_index(name='Count')\n",
    "\n",
    "# Initialize the MinMaxScaler\n",
    "scaler = MinMaxScaler(feature_range=(0, 1))\n",
    "\n",
    "# Fit and transform the 'Count' data to scale it\n",
    "monthly_data['Normalized_Count'] = scaler.fit_transform(monthly_data[['Count']])\n",
    "\n",
    "# Function to create input sequences for LSTM\n",
    "def create_dataset(dataset, look_back=1):\n",
    "    dataX, dataY = [], []\n",
    "    for i in range(len(dataset) - look_back):\n",
    "        a = dataset[i:(i + look_back)]\n",
    "        dataX.append(a)\n",
    "        dataY.append(dataset[i + look_back])\n",
    "    return np.array(dataX), np.array(dataY)\n",
    "\n",
    "# Define the number of past months data to consider for predicting the next month\n",
    "look_back = 3\n",
    "X, y = create_dataset(monthly_data['Normalized_Count'].values, look_back)\n",
    "\n",
    "# Reshape input to be [samples, time steps, features] for LSTM\n",
    "X = np.reshape(X, (X.shape[0], look_back, 1))\n",
    "\n",
    "# Define the LSTM model\n",
    "model = Sequential()\n",
    "model.add(LSTM(50, input_shape=(look_back, 1)))  # 50 LSTM units\n",
    "model.add(Dense(1))  # Output layer that predicts the future value\n",
    "model.compile(loss='mean_squared_error', optimizer='adam')\n",
    "\n",
    "\n"
   ],
   "metadata": {
    "collapsed": false,
    "ExecuteTime": {
     "end_time": "2024-09-03T14:44:05.952484Z",
     "start_time": "2024-09-03T14:29:55.711812Z"
    }
   },
   "id": "9638458c8d6a954d"
  },
  {
   "cell_type": "code",
   "execution_count": 34,
   "outputs": [
    {
     "name": "stdout",
     "output_type": "stream",
     "text": [
      "Epoch 1/40\n",
      "27109/27109 [==============================] - 45s 2ms/step - loss: 1.0050e-04\n",
      "Epoch 2/40\n",
      "27109/27109 [==============================] - 46s 2ms/step - loss: 1.0050e-04\n",
      "Epoch 3/40\n",
      "27109/27109 [==============================] - 45s 2ms/step - loss: 1.0050e-04\n",
      "Epoch 4/40\n",
      "27109/27109 [==============================] - 45s 2ms/step - loss: 1.0051e-04\n",
      "Epoch 5/40\n",
      "27109/27109 [==============================] - 45s 2ms/step - loss: 1.0050e-04\n",
      "Epoch 6/40\n",
      "27109/27109 [==============================] - 45s 2ms/step - loss: 1.0050e-04\n",
      "Epoch 7/40\n",
      "27109/27109 [==============================] - 45s 2ms/step - loss: 1.0049e-04\n",
      "Epoch 8/40\n",
      "27109/27109 [==============================] - 45s 2ms/step - loss: 1.0049e-04\n",
      "Epoch 9/40\n",
      "27109/27109 [==============================] - 45s 2ms/step - loss: 1.0051e-04\n",
      "Epoch 10/40\n",
      "27109/27109 [==============================] - 45s 2ms/step - loss: 1.0050e-04\n",
      "Epoch 11/40\n",
      "27109/27109 [==============================] - 46s 2ms/step - loss: 1.0049e-04\n",
      "Epoch 12/40\n",
      "27109/27109 [==============================] - 46s 2ms/step - loss: 1.0049e-04\n",
      "Epoch 13/40\n",
      "27109/27109 [==============================] - 46s 2ms/step - loss: 1.0049e-04\n",
      "Epoch 14/40\n",
      "27109/27109 [==============================] - 46s 2ms/step - loss: 1.0049e-04\n",
      "Epoch 15/40\n",
      "27109/27109 [==============================] - 47s 2ms/step - loss: 1.0050e-04\n",
      "Epoch 16/40\n",
      "27109/27109 [==============================] - 48s 2ms/step - loss: 1.0049e-04\n",
      "Epoch 17/40\n",
      "27109/27109 [==============================] - 48s 2ms/step - loss: 1.0050e-04\n",
      "Epoch 18/40\n",
      "27109/27109 [==============================] - 48s 2ms/step - loss: 1.0050e-04\n",
      "Epoch 19/40\n",
      "27109/27109 [==============================] - 48s 2ms/step - loss: 1.0049e-04\n",
      "Epoch 20/40\n",
      "27109/27109 [==============================] - 47s 2ms/step - loss: 1.0049e-04\n",
      "Epoch 21/40\n",
      "27109/27109 [==============================] - 47s 2ms/step - loss: 1.0051e-04\n",
      "Epoch 22/40\n",
      "27109/27109 [==============================] - 48s 2ms/step - loss: 1.0050e-04\n",
      "Epoch 23/40\n",
      "27109/27109 [==============================] - 48s 2ms/step - loss: 1.0051e-04\n",
      "Epoch 24/40\n",
      "27109/27109 [==============================] - 49s 2ms/step - loss: 1.0049e-04\n",
      "Epoch 25/40\n",
      "27109/27109 [==============================] - 49s 2ms/step - loss: 1.0049e-04\n",
      "Epoch 26/40\n",
      "27109/27109 [==============================] - 50s 2ms/step - loss: 1.0048e-04\n",
      "Epoch 27/40\n",
      "27109/27109 [==============================] - 48s 2ms/step - loss: 1.0050e-04\n",
      "Epoch 28/40\n",
      "27109/27109 [==============================] - 49s 2ms/step - loss: 1.0049e-04\n",
      "Epoch 29/40\n",
      "27109/27109 [==============================] - 50s 2ms/step - loss: 1.0050e-04\n",
      "Epoch 30/40\n",
      "27109/27109 [==============================] - 51s 2ms/step - loss: 1.0050e-04\n",
      "Epoch 31/40\n",
      "27109/27109 [==============================] - 51s 2ms/step - loss: 1.0051e-04\n",
      "Epoch 32/40\n",
      "27109/27109 [==============================] - 52s 2ms/step - loss: 1.0050e-04\n",
      "Epoch 33/40\n",
      "27109/27109 [==============================] - 50s 2ms/step - loss: 1.0049e-04\n",
      "Epoch 34/40\n",
      "27109/27109 [==============================] - 52s 2ms/step - loss: 1.0050e-04\n",
      "Epoch 35/40\n",
      "27109/27109 [==============================] - 52s 2ms/step - loss: 1.0050e-04\n",
      "Epoch 36/40\n",
      "27109/27109 [==============================] - 52s 2ms/step - loss: 1.0049e-04\n",
      "Epoch 37/40\n",
      "27109/27109 [==============================] - 52s 2ms/step - loss: 1.0050e-04\n",
      "Epoch 38/40\n",
      "27109/27109 [==============================] - 55s 2ms/step - loss: 1.0049e-04\n",
      "Epoch 39/40\n",
      "27109/27109 [==============================] - 54s 2ms/step - loss: 1.0049e-04\n",
      "Epoch 40/40\n",
      "27109/27109 [==============================] - 55s 2ms/step - loss: 1.0050e-04\n"
     ]
    },
    {
     "data": {
      "text/plain": "<keras.src.callbacks.History at 0x288d21cc0>"
     },
     "execution_count": 34,
     "metadata": {},
     "output_type": "execute_result"
    }
   ],
   "source": [
    "# Fit the model on the dataset\n",
    "model.fit(X, y, epochs=40, batch_size=128, verbose=1)"
   ],
   "metadata": {
    "collapsed": false,
    "ExecuteTime": {
     "end_time": "2024-09-03T19:21:24.329155Z",
     "start_time": "2024-09-03T18:49:11.816570Z"
    }
   },
   "id": "c97b7fbf54c14cb3"
  },
  {
   "cell_type": "code",
   "execution_count": 35,
   "outputs": [
    {
     "name": "stdout",
     "output_type": "stream",
     "text": [
      "1/1 [==============================] - 0s 91ms/step\n",
      "1/1 [==============================] - 0s 15ms/step\n",
      "1/1 [==============================] - 0s 17ms/step\n",
      "1/1 [==============================] - 0s 12ms/step\n",
      "1/1 [==============================] - 0s 11ms/step\n",
      "1/1 [==============================] - 0s 11ms/step\n"
     ]
    },
    {
     "ename": "ValueError",
     "evalue": "Found input variables with inconsistent numbers of samples: [3469922, 6]",
     "output_type": "error",
     "traceback": [
      "\u001B[0;31m---------------------------------------------------------------------------\u001B[0m",
      "\u001B[0;31mValueError\u001B[0m                                Traceback (most recent call last)",
      "Cell \u001B[0;32mIn[35], line 48\u001B[0m\n\u001B[1;32m     45\u001B[0m map_accumulated\u001B[38;5;241m.\u001B[39msave(\u001B[38;5;124m'\u001B[39m\u001B[38;5;124m/Users/arkamandol/DataspellProjects/Desertation_arka_23023023/data_files/crime_hotspots_accumulated.html\u001B[39m\u001B[38;5;124m'\u001B[39m)\n\u001B[1;32m     47\u001B[0m \u001B[38;5;66;03m# Calculate RMSE for evaluation\u001B[39;00m\n\u001B[0;32m---> 48\u001B[0m rmse \u001B[38;5;241m=\u001B[39m sqrt(\u001B[43mmean_squared_error\u001B[49m\u001B[43m(\u001B[49m\u001B[43my\u001B[49m\u001B[43m,\u001B[49m\u001B[43m \u001B[49m\u001B[43mfuture_predictions\u001B[49m\u001B[43m[\u001B[49m\u001B[43m:\u001B[49m\u001B[38;5;28;43mlen\u001B[39;49m\u001B[43m(\u001B[49m\u001B[43my\u001B[49m\u001B[43m)\u001B[49m\u001B[43m]\u001B[49m\u001B[43m)\u001B[49m)\n\u001B[1;32m     49\u001B[0m \u001B[38;5;28mprint\u001B[39m(\u001B[38;5;124m'\u001B[39m\u001B[38;5;124mRoot Mean Squared Error:\u001B[39m\u001B[38;5;124m'\u001B[39m, rmse)\n",
      "File \u001B[0;32m~/.pyenv/versions/3.10.13/lib/python3.10/site-packages/sklearn/utils/_param_validation.py:213\u001B[0m, in \u001B[0;36mvalidate_params.<locals>.decorator.<locals>.wrapper\u001B[0;34m(*args, **kwargs)\u001B[0m\n\u001B[1;32m    207\u001B[0m \u001B[38;5;28;01mtry\u001B[39;00m:\n\u001B[1;32m    208\u001B[0m     \u001B[38;5;28;01mwith\u001B[39;00m config_context(\n\u001B[1;32m    209\u001B[0m         skip_parameter_validation\u001B[38;5;241m=\u001B[39m(\n\u001B[1;32m    210\u001B[0m             prefer_skip_nested_validation \u001B[38;5;129;01mor\u001B[39;00m global_skip_validation\n\u001B[1;32m    211\u001B[0m         )\n\u001B[1;32m    212\u001B[0m     ):\n\u001B[0;32m--> 213\u001B[0m         \u001B[38;5;28;01mreturn\u001B[39;00m \u001B[43mfunc\u001B[49m\u001B[43m(\u001B[49m\u001B[38;5;241;43m*\u001B[39;49m\u001B[43margs\u001B[49m\u001B[43m,\u001B[49m\u001B[43m \u001B[49m\u001B[38;5;241;43m*\u001B[39;49m\u001B[38;5;241;43m*\u001B[39;49m\u001B[43mkwargs\u001B[49m\u001B[43m)\u001B[49m\n\u001B[1;32m    214\u001B[0m \u001B[38;5;28;01mexcept\u001B[39;00m InvalidParameterError \u001B[38;5;28;01mas\u001B[39;00m e:\n\u001B[1;32m    215\u001B[0m     \u001B[38;5;66;03m# When the function is just a wrapper around an estimator, we allow\u001B[39;00m\n\u001B[1;32m    216\u001B[0m     \u001B[38;5;66;03m# the function to delegate validation to the estimator, but we replace\u001B[39;00m\n\u001B[1;32m    217\u001B[0m     \u001B[38;5;66;03m# the name of the estimator by the name of the function in the error\u001B[39;00m\n\u001B[1;32m    218\u001B[0m     \u001B[38;5;66;03m# message to avoid confusion.\u001B[39;00m\n\u001B[1;32m    219\u001B[0m     msg \u001B[38;5;241m=\u001B[39m re\u001B[38;5;241m.\u001B[39msub(\n\u001B[1;32m    220\u001B[0m         \u001B[38;5;124mr\u001B[39m\u001B[38;5;124m\"\u001B[39m\u001B[38;5;124mparameter of \u001B[39m\u001B[38;5;124m\\\u001B[39m\u001B[38;5;124mw+ must be\u001B[39m\u001B[38;5;124m\"\u001B[39m,\n\u001B[1;32m    221\u001B[0m         \u001B[38;5;124mf\u001B[39m\u001B[38;5;124m\"\u001B[39m\u001B[38;5;124mparameter of \u001B[39m\u001B[38;5;132;01m{\u001B[39;00mfunc\u001B[38;5;241m.\u001B[39m\u001B[38;5;18m__qualname__\u001B[39m\u001B[38;5;132;01m}\u001B[39;00m\u001B[38;5;124m must be\u001B[39m\u001B[38;5;124m\"\u001B[39m,\n\u001B[1;32m    222\u001B[0m         \u001B[38;5;28mstr\u001B[39m(e),\n\u001B[1;32m    223\u001B[0m     )\n",
      "File \u001B[0;32m~/.pyenv/versions/3.10.13/lib/python3.10/site-packages/sklearn/metrics/_regression.py:497\u001B[0m, in \u001B[0;36mmean_squared_error\u001B[0;34m(y_true, y_pred, sample_weight, multioutput, squared)\u001B[0m\n\u001B[1;32m    492\u001B[0m     \u001B[38;5;28;01mif\u001B[39;00m \u001B[38;5;129;01mnot\u001B[39;00m squared:\n\u001B[1;32m    493\u001B[0m         \u001B[38;5;28;01mreturn\u001B[39;00m root_mean_squared_error(\n\u001B[1;32m    494\u001B[0m             y_true, y_pred, sample_weight\u001B[38;5;241m=\u001B[39msample_weight, multioutput\u001B[38;5;241m=\u001B[39mmultioutput\n\u001B[1;32m    495\u001B[0m         )\n\u001B[0;32m--> 497\u001B[0m y_type, y_true, y_pred, multioutput \u001B[38;5;241m=\u001B[39m \u001B[43m_check_reg_targets\u001B[49m\u001B[43m(\u001B[49m\n\u001B[1;32m    498\u001B[0m \u001B[43m    \u001B[49m\u001B[43my_true\u001B[49m\u001B[43m,\u001B[49m\u001B[43m \u001B[49m\u001B[43my_pred\u001B[49m\u001B[43m,\u001B[49m\u001B[43m \u001B[49m\u001B[43mmultioutput\u001B[49m\n\u001B[1;32m    499\u001B[0m \u001B[43m\u001B[49m\u001B[43m)\u001B[49m\n\u001B[1;32m    500\u001B[0m check_consistent_length(y_true, y_pred, sample_weight)\n\u001B[1;32m    501\u001B[0m output_errors \u001B[38;5;241m=\u001B[39m np\u001B[38;5;241m.\u001B[39maverage((y_true \u001B[38;5;241m-\u001B[39m y_pred) \u001B[38;5;241m*\u001B[39m\u001B[38;5;241m*\u001B[39m \u001B[38;5;241m2\u001B[39m, axis\u001B[38;5;241m=\u001B[39m\u001B[38;5;241m0\u001B[39m, weights\u001B[38;5;241m=\u001B[39msample_weight)\n",
      "File \u001B[0;32m~/.pyenv/versions/3.10.13/lib/python3.10/site-packages/sklearn/metrics/_regression.py:102\u001B[0m, in \u001B[0;36m_check_reg_targets\u001B[0;34m(y_true, y_pred, multioutput, dtype)\u001B[0m\n\u001B[1;32m     68\u001B[0m \u001B[38;5;28;01mdef\u001B[39;00m \u001B[38;5;21m_check_reg_targets\u001B[39m(y_true, y_pred, multioutput, dtype\u001B[38;5;241m=\u001B[39m\u001B[38;5;124m\"\u001B[39m\u001B[38;5;124mnumeric\u001B[39m\u001B[38;5;124m\"\u001B[39m):\n\u001B[1;32m     69\u001B[0m \u001B[38;5;250m    \u001B[39m\u001B[38;5;124;03m\"\"\"Check that y_true and y_pred belong to the same regression task.\u001B[39;00m\n\u001B[1;32m     70\u001B[0m \n\u001B[1;32m     71\u001B[0m \u001B[38;5;124;03m    Parameters\u001B[39;00m\n\u001B[0;32m   (...)\u001B[0m\n\u001B[1;32m    100\u001B[0m \u001B[38;5;124;03m        correct keyword.\u001B[39;00m\n\u001B[1;32m    101\u001B[0m \u001B[38;5;124;03m    \"\"\"\u001B[39;00m\n\u001B[0;32m--> 102\u001B[0m     \u001B[43mcheck_consistent_length\u001B[49m\u001B[43m(\u001B[49m\u001B[43my_true\u001B[49m\u001B[43m,\u001B[49m\u001B[43m \u001B[49m\u001B[43my_pred\u001B[49m\u001B[43m)\u001B[49m\n\u001B[1;32m    103\u001B[0m     y_true \u001B[38;5;241m=\u001B[39m check_array(y_true, ensure_2d\u001B[38;5;241m=\u001B[39m\u001B[38;5;28;01mFalse\u001B[39;00m, dtype\u001B[38;5;241m=\u001B[39mdtype)\n\u001B[1;32m    104\u001B[0m     y_pred \u001B[38;5;241m=\u001B[39m check_array(y_pred, ensure_2d\u001B[38;5;241m=\u001B[39m\u001B[38;5;28;01mFalse\u001B[39;00m, dtype\u001B[38;5;241m=\u001B[39mdtype)\n",
      "File \u001B[0;32m~/.pyenv/versions/3.10.13/lib/python3.10/site-packages/sklearn/utils/validation.py:457\u001B[0m, in \u001B[0;36mcheck_consistent_length\u001B[0;34m(*arrays)\u001B[0m\n\u001B[1;32m    455\u001B[0m uniques \u001B[38;5;241m=\u001B[39m np\u001B[38;5;241m.\u001B[39munique(lengths)\n\u001B[1;32m    456\u001B[0m \u001B[38;5;28;01mif\u001B[39;00m \u001B[38;5;28mlen\u001B[39m(uniques) \u001B[38;5;241m>\u001B[39m \u001B[38;5;241m1\u001B[39m:\n\u001B[0;32m--> 457\u001B[0m     \u001B[38;5;28;01mraise\u001B[39;00m \u001B[38;5;167;01mValueError\u001B[39;00m(\n\u001B[1;32m    458\u001B[0m         \u001B[38;5;124m\"\u001B[39m\u001B[38;5;124mFound input variables with inconsistent numbers of samples: \u001B[39m\u001B[38;5;132;01m%r\u001B[39;00m\u001B[38;5;124m\"\u001B[39m\n\u001B[1;32m    459\u001B[0m         \u001B[38;5;241m%\u001B[39m [\u001B[38;5;28mint\u001B[39m(l) \u001B[38;5;28;01mfor\u001B[39;00m l \u001B[38;5;129;01min\u001B[39;00m lengths]\n\u001B[1;32m    460\u001B[0m     )\n",
      "\u001B[0;31mValueError\u001B[0m: Found input variables with inconsistent numbers of samples: [3469922, 6]"
     ]
    }
   ],
   "source": [
    "\n",
    "# Predict future values for the next 6 months\n",
    "future_predictions = []\n",
    "current_input = X[-1]  # Start with the last available input\n",
    "\n",
    "for _ in range(6):\n",
    "    # Predict the next value\n",
    "    next_prediction = model.predict(current_input.reshape(1, look_back, 1))[0, 0]\n",
    "\n",
    "    # Store the prediction\n",
    "    future_predictions.append(next_prediction)\n",
    "\n",
    "    # Update the input for the next prediction (slide the window)\n",
    "    current_input = np.append(current_input[1:], next_prediction).reshape(look_back, 1)\n",
    "\n",
    "# Inverse transform to get predictions in the original count scale\n",
    "future_predictions = scaler.inverse_transform(np.array(future_predictions).reshape(-1, 1)).flatten()\n",
    "\n",
    "# Loop through each month and create a heatmap\n",
    "for i in range(6):\n",
    "    # Add the predictions to the DataFrame\n",
    "    monthly_data[f'Predicted_Count_Month_{i+1}'] = np.concatenate([np.zeros(len(monthly_data) - 1), [future_predictions[i]]])\n",
    "\n",
    "    # Create a map centered around an average location\n",
    "    center_lat, center_lon = monthly_data['Latitude'].mean(), monthly_data['Longitude'].mean()\n",
    "    map = folium.Map(location=[center_lat, center_lon], zoom_start=6)\n",
    "\n",
    "    # Add a heatmap to the map using predicted crime counts\n",
    "    heat_data = [[row['Latitude'], row['Longitude'], row[f'Predicted_Count_Month_{i+1}']] for index, row in monthly_data.iterrows()]\n",
    "    HeatMap(heat_data).add_to(map)\n",
    "\n",
    "    # Save the map\n",
    "    map.save(f'/Users/arkamandol/DataspellProjects/Desertation_arka_23023023/data_files/crime_hotspots_month_{i+1}.html')\n",
    "\n",
    "# Sum predictions across all six months\n",
    "monthly_data['Predicted_Count_Accumulated'] = sum([monthly_data[f'Predicted_Count_Month_{i+1}'] for i in range(6)])\n",
    "\n",
    "# Create a map centered around an average location\n",
    "map_accumulated = folium.Map(location=[center_lat, center_lon], zoom_start=6)\n",
    "\n",
    "# Add a heatmap to the map using accumulated predicted crime counts\n",
    "heat_data_accumulated = [[row['Latitude'], row['Longitude'], row['Predicted_Count_Accumulated']] for index, row in monthly_data.iterrows()]\n",
    "HeatMap(heat_data_accumulated).add_to(map_accumulated)\n",
    "\n",
    "# Save the accumulated map\n",
    "map_accumulated.save('/Users/arkamandol/DataspellProjects/Desertation_arka_23023023/data_files/crime_hotspots_accumulated.html')\n",
    "\n",
    "# Calculate RMSE for evaluation\n",
    "rmse = sqrt(mean_squared_error(y, future_predictions[:len(y)]))\n",
    "print('Root Mean Squared Error:', rmse)\n"
   ],
   "metadata": {
    "collapsed": false,
    "ExecuteTime": {
     "end_time": "2024-09-03T19:38:08.982923Z",
     "start_time": "2024-09-03T19:21:24.353488Z"
    }
   },
   "id": "cbdaef5d5cf075b4"
  },
  {
   "cell_type": "code",
   "execution_count": null,
   "outputs": [],
   "source": [],
   "metadata": {
    "collapsed": false
   },
   "id": "60507e164a77528f"
  },
  {
   "cell_type": "code",
   "execution_count": null,
   "outputs": [],
   "source": [],
   "metadata": {
    "collapsed": false
   },
   "id": "3da2d0750195327e"
  },
  {
   "cell_type": "code",
   "execution_count": null,
   "outputs": [],
   "source": [],
   "metadata": {
    "collapsed": false
   },
   "id": "20224e65f4d66cf0"
  },
  {
   "cell_type": "code",
   "execution_count": null,
   "outputs": [],
   "source": [],
   "metadata": {
    "collapsed": false
   },
   "id": "f14f8800377be98f"
  },
  {
   "cell_type": "code",
   "execution_count": null,
   "outputs": [],
   "source": [],
   "metadata": {
    "collapsed": false
   },
   "id": "b9aec523aee19d83"
  },
  {
   "cell_type": "code",
   "execution_count": null,
   "outputs": [],
   "source": [],
   "metadata": {
    "collapsed": false
   },
   "id": "f9d81ae5b65acc4a"
  },
  {
   "cell_type": "code",
   "execution_count": null,
   "outputs": [],
   "source": [],
   "metadata": {
    "collapsed": false
   },
   "id": "a1c7350c6b604746"
  },
  {
   "cell_type": "code",
   "execution_count": null,
   "outputs": [],
   "source": [],
   "metadata": {
    "collapsed": false
   },
   "id": "d47543f9c472123a"
  }
 ],
 "metadata": {
  "kernelspec": {
   "display_name": "Python 3",
   "language": "python",
   "name": "python3"
  },
  "language_info": {
   "codemirror_mode": {
    "name": "ipython",
    "version": 2
   },
   "file_extension": ".py",
   "mimetype": "text/x-python",
   "name": "python",
   "nbconvert_exporter": "python",
   "pygments_lexer": "ipython2",
   "version": "2.7.6"
  }
 },
 "nbformat": 4,
 "nbformat_minor": 5
}

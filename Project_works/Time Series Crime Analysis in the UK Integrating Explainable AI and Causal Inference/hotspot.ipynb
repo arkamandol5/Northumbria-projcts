{
 "cells": [
  {
   "cell_type": "code",
   "execution_count": 1,
   "outputs": [],
   "source": [
    "import pandas as pd\n",
    "import numpy as np\n",
    "\n",
    "# Path to your dataset\n",
    "file_path = '/Users/arkamandol/DataspellProjects/Desertation_arka_23023023/data_files/uk_crime_lat_long.csv'\n",
    "data = pd.read_csv(file_path)\n"
   ],
   "metadata": {
    "collapsed": false,
    "ExecuteTime": {
     "end_time": "2024-09-03T14:30:25.178652Z",
     "start_time": "2024-09-03T14:30:23.838836Z"
    }
   },
   "id": "43d911da48f89b1f"
  },
  {
   "cell_type": "code",
   "execution_count": 2,
   "outputs": [
    {
     "data": {
      "text/plain": "     Month  Longitude   Latitude\n0  2020-01  -1.882746  53.933807\n1  2020-01  -1.819597  53.923411\n2  2020-01  -1.819121  53.920696\n3  2020-01  -1.822354  53.926776\n4  2020-01  -1.820732  53.925147",
      "text/html": "<div>\n<style scoped>\n    .dataframe tbody tr th:only-of-type {\n        vertical-align: middle;\n    }\n\n    .dataframe tbody tr th {\n        vertical-align: top;\n    }\n\n    .dataframe thead th {\n        text-align: right;\n    }\n</style>\n<table border=\"1\" class=\"dataframe\">\n  <thead>\n    <tr style=\"text-align: right;\">\n      <th></th>\n      <th>Month</th>\n      <th>Longitude</th>\n      <th>Latitude</th>\n    </tr>\n  </thead>\n  <tbody>\n    <tr>\n      <th>0</th>\n      <td>2020-01</td>\n      <td>-1.882746</td>\n      <td>53.933807</td>\n    </tr>\n    <tr>\n      <th>1</th>\n      <td>2020-01</td>\n      <td>-1.819597</td>\n      <td>53.923411</td>\n    </tr>\n    <tr>\n      <th>2</th>\n      <td>2020-01</td>\n      <td>-1.819121</td>\n      <td>53.920696</td>\n    </tr>\n    <tr>\n      <th>3</th>\n      <td>2020-01</td>\n      <td>-1.822354</td>\n      <td>53.926776</td>\n    </tr>\n    <tr>\n      <th>4</th>\n      <td>2020-01</td>\n      <td>-1.820732</td>\n      <td>53.925147</td>\n    </tr>\n  </tbody>\n</table>\n</div>"
     },
     "execution_count": 2,
     "metadata": {},
     "output_type": "execute_result"
    }
   ],
   "source": [
    "data.head()\n"
   ],
   "metadata": {
    "collapsed": false,
    "ExecuteTime": {
     "end_time": "2024-09-03T14:30:25.190456Z",
     "start_time": "2024-09-03T14:30:25.182200Z"
    }
   },
   "id": "b4abc22ee54b2726"
  },
  {
   "cell_type": "code",
   "execution_count": 3,
   "outputs": [
    {
     "data": {
      "text/plain": "             Month  Longitude   Latitude\n2532779 2018-10-01  -1.799748  52.480917\n2636199 2018-10-01  -0.883768  52.241438\n2636200 2018-10-01  -0.886208  52.239304\n2636201 2018-10-01  -0.912985  52.239679\n2636202 2018-10-01  -0.910119  52.242476",
      "text/html": "<div>\n<style scoped>\n    .dataframe tbody tr th:only-of-type {\n        vertical-align: middle;\n    }\n\n    .dataframe tbody tr th {\n        vertical-align: top;\n    }\n\n    .dataframe thead th {\n        text-align: right;\n    }\n</style>\n<table border=\"1\" class=\"dataframe\">\n  <thead>\n    <tr style=\"text-align: right;\">\n      <th></th>\n      <th>Month</th>\n      <th>Longitude</th>\n      <th>Latitude</th>\n    </tr>\n  </thead>\n  <tbody>\n    <tr>\n      <th>2532779</th>\n      <td>2018-10-01</td>\n      <td>-1.799748</td>\n      <td>52.480917</td>\n    </tr>\n    <tr>\n      <th>2636199</th>\n      <td>2018-10-01</td>\n      <td>-0.883768</td>\n      <td>52.241438</td>\n    </tr>\n    <tr>\n      <th>2636200</th>\n      <td>2018-10-01</td>\n      <td>-0.886208</td>\n      <td>52.239304</td>\n    </tr>\n    <tr>\n      <th>2636201</th>\n      <td>2018-10-01</td>\n      <td>-0.912985</td>\n      <td>52.239679</td>\n    </tr>\n    <tr>\n      <th>2636202</th>\n      <td>2018-10-01</td>\n      <td>-0.910119</td>\n      <td>52.242476</td>\n    </tr>\n  </tbody>\n</table>\n</div>"
     },
     "execution_count": 3,
     "metadata": {},
     "output_type": "execute_result"
    }
   ],
   "source": [
    "# Convert 'Month' to datetime format for better date handling\n",
    "data['Month'] = pd.to_datetime(data['Month'])\n",
    "\n",
    "# Sort the DataFrame by the 'Month' column\n",
    "data.sort_values('Month', inplace=True)\n",
    "data.head()"
   ],
   "metadata": {
    "collapsed": false,
    "ExecuteTime": {
     "end_time": "2024-09-03T14:30:25.664501Z",
     "start_time": "2024-09-03T14:30:25.284171Z"
    }
   },
   "id": "965f674eb8804ef3"
  },
  {
   "cell_type": "code",
   "execution_count": 4,
   "outputs": [
    {
     "data": {
      "text/plain": "       Month   Latitude  Longitude  Count\n0 2018-10-01  49.958602  -6.282843      1\n1 2018-10-01  49.965936  -5.206265      1\n2 2018-10-01  49.968855  -5.203851      1\n3 2018-10-01  50.017470  -5.213606      5\n4 2018-10-01  50.023755  -5.247637      1",
      "text/html": "<div>\n<style scoped>\n    .dataframe tbody tr th:only-of-type {\n        vertical-align: middle;\n    }\n\n    .dataframe tbody tr th {\n        vertical-align: top;\n    }\n\n    .dataframe thead th {\n        text-align: right;\n    }\n</style>\n<table border=\"1\" class=\"dataframe\">\n  <thead>\n    <tr style=\"text-align: right;\">\n      <th></th>\n      <th>Month</th>\n      <th>Latitude</th>\n      <th>Longitude</th>\n      <th>Count</th>\n    </tr>\n  </thead>\n  <tbody>\n    <tr>\n      <th>0</th>\n      <td>2018-10-01</td>\n      <td>49.958602</td>\n      <td>-6.282843</td>\n      <td>1</td>\n    </tr>\n    <tr>\n      <th>1</th>\n      <td>2018-10-01</td>\n      <td>49.965936</td>\n      <td>-5.206265</td>\n      <td>1</td>\n    </tr>\n    <tr>\n      <th>2</th>\n      <td>2018-10-01</td>\n      <td>49.968855</td>\n      <td>-5.203851</td>\n      <td>1</td>\n    </tr>\n    <tr>\n      <th>3</th>\n      <td>2018-10-01</td>\n      <td>50.017470</td>\n      <td>-5.213606</td>\n      <td>5</td>\n    </tr>\n    <tr>\n      <th>4</th>\n      <td>2018-10-01</td>\n      <td>50.023755</td>\n      <td>-5.247637</td>\n      <td>1</td>\n    </tr>\n  </tbody>\n</table>\n</div>"
     },
     "execution_count": 4,
     "metadata": {},
     "output_type": "execute_result"
    }
   ],
   "source": [
    "# Group data by Month, Latitude, and Longitude and count occurrences\n",
    "monthly_data = data.groupby(['Month', 'Latitude', 'Longitude']).size().reset_index(name='Count')\n",
    "monthly_data.head()"
   ],
   "metadata": {
    "collapsed": false,
    "ExecuteTime": {
     "end_time": "2024-09-03T14:30:26.953295Z",
     "start_time": "2024-09-03T14:30:25.661009Z"
    }
   },
   "id": "d17144b3bfd44626"
  },
  {
   "cell_type": "code",
   "execution_count": 5,
   "outputs": [],
   "source": [
    "from sklearn.preprocessing import MinMaxScaler\n",
    "\n",
    "# Initialize the MinMaxScaler\n",
    "scaler = MinMaxScaler(feature_range=(0, 1))\n",
    "\n",
    "# Fit and transform the 'Count' data to scale it\n",
    "monthly_data['Normalized_Count'] = scaler.fit_transform(monthly_data[['Count']])\n"
   ],
   "metadata": {
    "collapsed": false,
    "ExecuteTime": {
     "end_time": "2024-09-03T14:30:27.644151Z",
     "start_time": "2024-09-03T14:30:26.956093Z"
    }
   },
   "id": "d9129d52cbfe5d7e"
  },
  {
   "cell_type": "code",
   "execution_count": 6,
   "outputs": [],
   "source": [
    "# Function to create input sequences for LSTM\n",
    "def create_dataset(dataset, look_back=1):\n",
    "    dataX, dataY = [], []\n",
    "    for i in range(len(dataset) - look_back):\n",
    "        a = dataset[i:(i + look_back)]\n",
    "        dataX.append(a)\n",
    "        dataY.append(dataset[i + look_back])\n",
    "    return np.array(dataX), np.array(dataY)\n",
    "\n",
    "# Define the number of past months data to consider for predicting the next month\n",
    "look_back = 3\n",
    "X, y = create_dataset(monthly_data['Normalized_Count'].values, look_back)\n",
    "\n",
    "# Reshape input to be [samples, time steps, features] for LSTM\n",
    "X = np.reshape(X, (X.shape[0], look_back, 1))\n"
   ],
   "metadata": {
    "collapsed": false,
    "ExecuteTime": {
     "end_time": "2024-09-03T14:30:29.238523Z",
     "start_time": "2024-09-03T14:30:27.649433Z"
    }
   },
   "id": "f07d5da21f978859"
  },
  {
   "cell_type": "code",
   "execution_count": 7,
   "outputs": [],
   "source": [
    "from keras.models import Sequential\n",
    "from keras.layers import LSTM, Dense\n",
    "\n",
    "# Define the LSTM model\n",
    "model = Sequential()\n",
    "model.add(LSTM(50, input_shape=(look_back, 1)))  # 50 LSTM units\n",
    "model.add(Dense(1))  # Output layer that predicts the future value\n",
    "model.compile(loss='mean_squared_error', optimizer='adam')\n"
   ],
   "metadata": {
    "collapsed": false,
    "ExecuteTime": {
     "end_time": "2024-09-03T14:30:32.292297Z",
     "start_time": "2024-09-03T14:30:29.239961Z"
    }
   },
   "id": "519431c5312850f4"
  },
  {
   "cell_type": "code",
   "execution_count": 8,
   "outputs": [
    {
     "name": "stdout",
     "output_type": "stream",
     "text": [
      "Epoch 1/10\n",
      "6778/6778 [==============================] - 28s 4ms/step - loss: 1.0036e-04\n",
      "Epoch 2/10\n",
      "6778/6778 [==============================] - 27s 4ms/step - loss: 1.0031e-04\n",
      "Epoch 3/10\n",
      "6778/6778 [==============================] - 28s 4ms/step - loss: 1.0031e-04\n",
      "Epoch 4/10\n",
      "6778/6778 [==============================] - 28s 4ms/step - loss: 1.0030e-04\n",
      "Epoch 5/10\n",
      "6778/6778 [==============================] - 27s 4ms/step - loss: 1.0029e-04\n",
      "Epoch 6/10\n",
      "6778/6778 [==============================] - 28s 4ms/step - loss: 1.0030e-04\n",
      "Epoch 7/10\n",
      "6778/6778 [==============================] - 28s 4ms/step - loss: 1.0029e-04\n",
      "Epoch 8/10\n",
      "6778/6778 [==============================] - 26s 4ms/step - loss: 1.0031e-04\n",
      "Epoch 9/10\n",
      "6778/6778 [==============================] - 22s 3ms/step - loss: 1.0031e-04\n",
      "Epoch 10/10\n",
      "6778/6778 [==============================] - 21s 3ms/step - loss: 1.0029e-04\n"
     ]
    },
    {
     "data": {
      "text/plain": "<keras.src.callbacks.History at 0x2ba8ba230>"
     },
     "execution_count": 8,
     "metadata": {},
     "output_type": "execute_result"
    }
   ],
   "source": [
    "# Fit the model on the dataset\n",
    "model.fit(X, y, epochs=10, batch_size=512, verbose=1)\n"
   ],
   "metadata": {
    "collapsed": false,
    "ExecuteTime": {
     "end_time": "2024-09-03T14:34:55.109852Z",
     "start_time": "2024-09-03T14:30:32.293408Z"
    }
   },
   "id": "b6e5ecbddff82d17"
  },
  {
   "cell_type": "code",
   "execution_count": 9,
   "outputs": [
    {
     "name": "stdout",
     "output_type": "stream",
     "text": [
      "108436/108436 [==============================] - 34s 315us/step\n"
     ]
    }
   ],
   "source": [
    "# Predict future values\n",
    "predictions = model.predict(X)\n"
   ],
   "metadata": {
    "collapsed": false,
    "ExecuteTime": {
     "end_time": "2024-09-03T14:35:44.967204Z",
     "start_time": "2024-09-03T14:34:55.137275Z"
    }
   },
   "id": "8cbd8484ffa7b8d4"
  },
  {
   "cell_type": "code",
   "execution_count": 10,
   "outputs": [],
   "source": [
    "# Inverse transform to get predictions in the original count scale\n",
    "predictions = scaler.inverse_transform(predictions)\n"
   ],
   "metadata": {
    "collapsed": false,
    "ExecuteTime": {
     "end_time": "2024-09-03T14:35:44.982137Z",
     "start_time": "2024-09-03T14:35:44.966442Z"
    }
   },
   "id": "fd91d52082ca97d2"
  },
  {
   "cell_type": "code",
   "execution_count": 11,
   "outputs": [],
   "source": [
    "# Add predictions to the monthly_data DataFrame\n",
    "monthly_data['Predicted_Count'] = np.concatenate([np.zeros(look_back), predictions.flatten()])\n"
   ],
   "metadata": {
    "collapsed": false,
    "ExecuteTime": {
     "end_time": "2024-09-03T14:35:45.005486Z",
     "start_time": "2024-09-03T14:35:44.978699Z"
    }
   },
   "id": "bb8491ef2ade48cc"
  },
  {
   "cell_type": "code",
   "execution_count": 12,
   "outputs": [],
   "source": [
    "import folium\n",
    "from folium.plugins import HeatMap\n",
    "\n",
    "# Create a map centered around an average location\n",
    "center_lat, center_lon = monthly_data['Latitude'].mean(), monthly_data['Longitude'].mean()\n",
    "map = folium.Map(location=[center_lat, center_lon], zoom_start=6)\n",
    "\n",
    "# Add a heatmap to the map using predicted crime counts\n",
    "heat_data = [[row['Latitude'], row['Longitude'], row['Predicted_Count']] for index, row in monthly_data.iterrows()]\n",
    "HeatMap(heat_data).add_to(map)\n",
    "\n",
    "# Save or display the map\n",
    "map.save('/Users/arkamandol/DataspellProjects/Desertation_arka_23023023/data_files/crime_hotspots.html')\n"
   ],
   "metadata": {
    "collapsed": false,
    "ExecuteTime": {
     "end_time": "2024-09-03T14:37:16.419288Z",
     "start_time": "2024-09-03T14:35:44.992716Z"
    }
   },
   "id": "afcee2de755ec042"
  },
  {
   "cell_type": "code",
   "execution_count": 13,
   "outputs": [
    {
     "name": "stdout",
     "output_type": "stream",
     "text": [
      "Root Mean Squared Error: 1.5721617129086545\n"
     ]
    }
   ],
   "source": [
    "from sklearn.metrics import mean_squared_error\n",
    "from math import sqrt\n",
    "\n",
    "# Calculate RMSE\n",
    "rmse = sqrt(mean_squared_error(y, predictions))\n",
    "print('Root Mean Squared Error:', rmse)\n"
   ],
   "metadata": {
    "collapsed": false,
    "ExecuteTime": {
     "end_time": "2024-09-03T14:37:16.624226Z",
     "start_time": "2024-09-03T14:37:16.425088Z"
    }
   },
   "id": "3da42639f17f5e7"
  },
  {
   "cell_type": "code",
   "execution_count": null,
   "outputs": [],
   "source": [
    "\n"
   ],
   "metadata": {
    "collapsed": false
   },
   "id": "f8fa23d3b49d349a"
  },
  {
   "cell_type": "code",
   "execution_count": null,
   "outputs": [],
   "source": [],
   "metadata": {
    "collapsed": false
   },
   "id": "19425542da91da4"
  }
 ],
 "metadata": {
  "kernelspec": {
   "display_name": "Python 3",
   "language": "python",
   "name": "python3"
  },
  "language_info": {
   "codemirror_mode": {
    "name": "ipython",
    "version": 2
   },
   "file_extension": ".py",
   "mimetype": "text/x-python",
   "name": "python",
   "nbconvert_exporter": "python",
   "pygments_lexer": "ipython2",
   "version": "2.7.6"
  }
 },
 "nbformat": 4,
 "nbformat_minor": 5
}
